{
 "cells": [
  {
   "cell_type": "markdown",
   "id": "d1ece9c0",
   "metadata": {},
   "source": [
    "# DATASET ON THE STUDY OF DIABETES"
   ]
  },
  {
   "cell_type": "markdown",
   "id": "159ca408",
   "metadata": {},
   "source": [
    "This is a dataset on a number of patients medical profile and its correlation to diabetes\n",
    "    This dataset will be used to find statistical and analytical values which will help to identify if certain factors\n",
    "    have correlation to the prevalence of diabetes in certain individuals. Identifying this values will help in \n",
    "    understanding better the risk factors and prevention of diabetes."
   ]
  },
  {
   "cell_type": "code",
   "execution_count": 2,
   "id": "918b1fe4",
   "metadata": {},
   "outputs": [],
   "source": [
    "#These are the packages used in finding and making the statistics and analysis of this dataset.\n",
    "import pandas as pd\n",
    "import numpy as np\n",
    "import matplotlib.pyplot as plt\n",
    "\n",
    "%matplotlib inline\n",
    "\n",
    "plt.style.use('ggplot')\n",
    "\n",
    "plt.rcParams['figure.figsize']=(8, 6)\n",
    "plt.rcParams['font.size']=14"
   ]
  },
  {
   "cell_type": "code",
   "execution_count": 3,
   "id": "7ae167f6",
   "metadata": {},
   "outputs": [],
   "source": [
    "diab = pd.read_csv('../Project/diabetes2.csv')"
   ]
  },
  {
   "cell_type": "code",
   "execution_count": 10,
   "id": "14be202d",
   "metadata": {},
   "outputs": [
    {
     "data": {
      "text/html": [
       "<div>\n",
       "<style scoped>\n",
       "    .dataframe tbody tr th:only-of-type {\n",
       "        vertical-align: middle;\n",
       "    }\n",
       "\n",
       "    .dataframe tbody tr th {\n",
       "        vertical-align: top;\n",
       "    }\n",
       "\n",
       "    .dataframe thead th {\n",
       "        text-align: right;\n",
       "    }\n",
       "</style>\n",
       "<table border=\"1\" class=\"dataframe\">\n",
       "  <thead>\n",
       "    <tr style=\"text-align: right;\">\n",
       "      <th></th>\n",
       "      <th>patient_number</th>\n",
       "      <th>cholesterol</th>\n",
       "      <th>glucose</th>\n",
       "      <th>hdl_chol</th>\n",
       "      <th>chol_hdl_ratio</th>\n",
       "      <th>age</th>\n",
       "      <th>gender</th>\n",
       "      <th>height</th>\n",
       "      <th>weight</th>\n",
       "      <th>systolic_bp</th>\n",
       "      <th>diastolic_bp</th>\n",
       "      <th>waist</th>\n",
       "      <th>hip</th>\n",
       "      <th>waist_hip_ratio</th>\n",
       "      <th>diabetes</th>\n",
       "    </tr>\n",
       "  </thead>\n",
       "  <tbody>\n",
       "    <tr>\n",
       "      <th>0</th>\n",
       "      <td>1</td>\n",
       "      <td>193</td>\n",
       "      <td>77</td>\n",
       "      <td>49</td>\n",
       "      <td>3,9</td>\n",
       "      <td>19</td>\n",
       "      <td>female</td>\n",
       "      <td>61</td>\n",
       "      <td>119</td>\n",
       "      <td>118</td>\n",
       "      <td>70</td>\n",
       "      <td>32</td>\n",
       "      <td>38</td>\n",
       "      <td>0,84</td>\n",
       "      <td>No diabetes</td>\n",
       "    </tr>\n",
       "    <tr>\n",
       "      <th>1</th>\n",
       "      <td>2</td>\n",
       "      <td>146</td>\n",
       "      <td>79</td>\n",
       "      <td>41</td>\n",
       "      <td>3,6</td>\n",
       "      <td>19</td>\n",
       "      <td>female</td>\n",
       "      <td>60</td>\n",
       "      <td>135</td>\n",
       "      <td>108</td>\n",
       "      <td>58</td>\n",
       "      <td>33</td>\n",
       "      <td>40</td>\n",
       "      <td>0,83</td>\n",
       "      <td>No diabetes</td>\n",
       "    </tr>\n",
       "    <tr>\n",
       "      <th>2</th>\n",
       "      <td>3</td>\n",
       "      <td>217</td>\n",
       "      <td>75</td>\n",
       "      <td>54</td>\n",
       "      <td>4</td>\n",
       "      <td>20</td>\n",
       "      <td>female</td>\n",
       "      <td>67</td>\n",
       "      <td>187</td>\n",
       "      <td>110</td>\n",
       "      <td>72</td>\n",
       "      <td>40</td>\n",
       "      <td>45</td>\n",
       "      <td>0,89</td>\n",
       "      <td>No diabetes</td>\n",
       "    </tr>\n",
       "    <tr>\n",
       "      <th>3</th>\n",
       "      <td>4</td>\n",
       "      <td>226</td>\n",
       "      <td>97</td>\n",
       "      <td>70</td>\n",
       "      <td>3,2</td>\n",
       "      <td>20</td>\n",
       "      <td>female</td>\n",
       "      <td>64</td>\n",
       "      <td>114</td>\n",
       "      <td>122</td>\n",
       "      <td>64</td>\n",
       "      <td>31</td>\n",
       "      <td>39</td>\n",
       "      <td>0,79</td>\n",
       "      <td>No diabetes</td>\n",
       "    </tr>\n",
       "    <tr>\n",
       "      <th>4</th>\n",
       "      <td>5</td>\n",
       "      <td>164</td>\n",
       "      <td>91</td>\n",
       "      <td>67</td>\n",
       "      <td>2,4</td>\n",
       "      <td>20</td>\n",
       "      <td>female</td>\n",
       "      <td>70</td>\n",
       "      <td>141</td>\n",
       "      <td>122</td>\n",
       "      <td>86</td>\n",
       "      <td>32</td>\n",
       "      <td>39</td>\n",
       "      <td>0,82</td>\n",
       "      <td>No diabetes</td>\n",
       "    </tr>\n",
       "    <tr>\n",
       "      <th>...</th>\n",
       "      <td>...</td>\n",
       "      <td>...</td>\n",
       "      <td>...</td>\n",
       "      <td>...</td>\n",
       "      <td>...</td>\n",
       "      <td>...</td>\n",
       "      <td>...</td>\n",
       "      <td>...</td>\n",
       "      <td>...</td>\n",
       "      <td>...</td>\n",
       "      <td>...</td>\n",
       "      <td>...</td>\n",
       "      <td>...</td>\n",
       "      <td>...</td>\n",
       "      <td>...</td>\n",
       "    </tr>\n",
       "    <tr>\n",
       "      <th>385</th>\n",
       "      <td>386</td>\n",
       "      <td>227</td>\n",
       "      <td>105</td>\n",
       "      <td>44</td>\n",
       "      <td>5,2</td>\n",
       "      <td>83</td>\n",
       "      <td>female</td>\n",
       "      <td>59</td>\n",
       "      <td>125</td>\n",
       "      <td>150</td>\n",
       "      <td>90</td>\n",
       "      <td>35</td>\n",
       "      <td>40</td>\n",
       "      <td>0,88</td>\n",
       "      <td>No diabetes</td>\n",
       "    </tr>\n",
       "    <tr>\n",
       "      <th>386</th>\n",
       "      <td>387</td>\n",
       "      <td>226</td>\n",
       "      <td>279</td>\n",
       "      <td>52</td>\n",
       "      <td>4,3</td>\n",
       "      <td>84</td>\n",
       "      <td>female</td>\n",
       "      <td>60</td>\n",
       "      <td>192</td>\n",
       "      <td>144</td>\n",
       "      <td>88</td>\n",
       "      <td>41</td>\n",
       "      <td>48</td>\n",
       "      <td>0,85</td>\n",
       "      <td>Diabetes</td>\n",
       "    </tr>\n",
       "    <tr>\n",
       "      <th>387</th>\n",
       "      <td>388</td>\n",
       "      <td>301</td>\n",
       "      <td>90</td>\n",
       "      <td>118</td>\n",
       "      <td>2,6</td>\n",
       "      <td>89</td>\n",
       "      <td>female</td>\n",
       "      <td>61</td>\n",
       "      <td>115</td>\n",
       "      <td>218</td>\n",
       "      <td>90</td>\n",
       "      <td>31</td>\n",
       "      <td>41</td>\n",
       "      <td>0,76</td>\n",
       "      <td>No diabetes</td>\n",
       "    </tr>\n",
       "    <tr>\n",
       "      <th>388</th>\n",
       "      <td>389</td>\n",
       "      <td>232</td>\n",
       "      <td>184</td>\n",
       "      <td>114</td>\n",
       "      <td>2</td>\n",
       "      <td>91</td>\n",
       "      <td>female</td>\n",
       "      <td>61</td>\n",
       "      <td>127</td>\n",
       "      <td>170</td>\n",
       "      <td>82</td>\n",
       "      <td>35</td>\n",
       "      <td>38</td>\n",
       "      <td>0,92</td>\n",
       "      <td>Diabetes</td>\n",
       "    </tr>\n",
       "    <tr>\n",
       "      <th>389</th>\n",
       "      <td>390</td>\n",
       "      <td>165</td>\n",
       "      <td>94</td>\n",
       "      <td>69</td>\n",
       "      <td>2,4</td>\n",
       "      <td>92</td>\n",
       "      <td>female</td>\n",
       "      <td>62</td>\n",
       "      <td>217</td>\n",
       "      <td>160</td>\n",
       "      <td>82</td>\n",
       "      <td>51</td>\n",
       "      <td>51</td>\n",
       "      <td>1</td>\n",
       "      <td>No diabetes</td>\n",
       "    </tr>\n",
       "  </tbody>\n",
       "</table>\n",
       "<p>390 rows × 15 columns</p>\n",
       "</div>"
      ],
      "text/plain": [
       "     patient_number  cholesterol  glucose  hdl_chol chol_hdl_ratio  age  \\\n",
       "0                 1          193       77        49            3,9   19   \n",
       "1                 2          146       79        41            3,6   19   \n",
       "2                 3          217       75        54              4   20   \n",
       "3                 4          226       97        70            3,2   20   \n",
       "4                 5          164       91        67            2,4   20   \n",
       "..              ...          ...      ...       ...            ...  ...   \n",
       "385             386          227      105        44            5,2   83   \n",
       "386             387          226      279        52            4,3   84   \n",
       "387             388          301       90       118            2,6   89   \n",
       "388             389          232      184       114              2   91   \n",
       "389             390          165       94        69            2,4   92   \n",
       "\n",
       "     gender  height  weight  systolic_bp  diastolic_bp  waist  hip  \\\n",
       "0    female      61     119          118            70     32   38   \n",
       "1    female      60     135          108            58     33   40   \n",
       "2    female      67     187          110            72     40   45   \n",
       "3    female      64     114          122            64     31   39   \n",
       "4    female      70     141          122            86     32   39   \n",
       "..      ...     ...     ...          ...           ...    ...  ...   \n",
       "385  female      59     125          150            90     35   40   \n",
       "386  female      60     192          144            88     41   48   \n",
       "387  female      61     115          218            90     31   41   \n",
       "388  female      61     127          170            82     35   38   \n",
       "389  female      62     217          160            82     51   51   \n",
       "\n",
       "    waist_hip_ratio     diabetes  \n",
       "0              0,84  No diabetes  \n",
       "1              0,83  No diabetes  \n",
       "2              0,89  No diabetes  \n",
       "3              0,79  No diabetes  \n",
       "4              0,82  No diabetes  \n",
       "..              ...          ...  \n",
       "385            0,88  No diabetes  \n",
       "386            0,85     Diabetes  \n",
       "387            0,76  No diabetes  \n",
       "388            0,92     Diabetes  \n",
       "389               1  No diabetes  \n",
       "\n",
       "[390 rows x 15 columns]"
      ]
     },
     "execution_count": 10,
     "metadata": {},
     "output_type": "execute_result"
    }
   ],
   "source": [
    "diab"
   ]
  },
  {
   "cell_type": "code",
   "execution_count": 11,
   "id": "71b8d018",
   "metadata": {},
   "outputs": [
    {
     "data": {
      "text/plain": [
       "(390, 15)"
      ]
     },
     "execution_count": 11,
     "metadata": {},
     "output_type": "execute_result"
    }
   ],
   "source": [
    "#Below is the information on no. of rows and columns of this dataset\n",
    "diab.shape"
   ]
  },
  {
   "cell_type": "code",
   "execution_count": 12,
   "id": "328bb6a4",
   "metadata": {},
   "outputs": [
    {
     "name": "stdout",
     "output_type": "stream",
     "text": [
      "<class 'pandas.core.frame.DataFrame'>\n",
      "RangeIndex: 390 entries, 0 to 389\n",
      "Data columns (total 15 columns):\n",
      " #   Column           Non-Null Count  Dtype \n",
      "---  ------           --------------  ----- \n",
      " 0   patient_number   390 non-null    int64 \n",
      " 1   cholesterol      390 non-null    int64 \n",
      " 2   glucose          390 non-null    int64 \n",
      " 3   hdl_chol         390 non-null    int64 \n",
      " 4   chol_hdl_ratio   390 non-null    object\n",
      " 5   age              390 non-null    int64 \n",
      " 6   gender           390 non-null    object\n",
      " 7   height           390 non-null    int64 \n",
      " 8   weight           390 non-null    int64 \n",
      " 9   systolic_bp      390 non-null    int64 \n",
      " 10  diastolic_bp     390 non-null    int64 \n",
      " 11  waist            390 non-null    int64 \n",
      " 12  hip              390 non-null    int64 \n",
      " 13  waist_hip_ratio  390 non-null    object\n",
      " 14  diabetes         390 non-null    object\n",
      "dtypes: int64(11), object(4)\n",
      "memory usage: 45.8+ KB\n"
     ]
    }
   ],
   "source": [
    "diab.info()"
   ]
  },
  {
   "cell_type": "code",
   "execution_count": 13,
   "id": "7ae82a1f",
   "metadata": {},
   "outputs": [
    {
     "data": {
      "text/plain": [
       "RangeIndex(start=0, stop=390, step=1)"
      ]
     },
     "execution_count": 13,
     "metadata": {},
     "output_type": "execute_result"
    }
   ],
   "source": [
    "diab.index"
   ]
  },
  {
   "cell_type": "code",
   "execution_count": 14,
   "id": "308ca226",
   "metadata": {},
   "outputs": [
    {
     "name": "stdout",
     "output_type": "stream",
     "text": [
      "None\n"
     ]
    }
   ],
   "source": [
    "#The index currently is not set\n",
    "print(diab.index.name)"
   ]
  },
  {
   "cell_type": "code",
   "execution_count": 15,
   "id": "8ae5e77a",
   "metadata": {},
   "outputs": [
    {
     "data": {
      "text/plain": [
       "Index(['patient_number', 'cholesterol', 'glucose', 'hdl_chol',\n",
       "       'chol_hdl_ratio', 'age', 'gender', 'height', 'weight', 'systolic_bp',\n",
       "       'diastolic_bp', 'waist', 'hip', 'waist_hip_ratio', 'diabetes'],\n",
       "      dtype='object')"
      ]
     },
     "execution_count": 15,
     "metadata": {},
     "output_type": "execute_result"
    }
   ],
   "source": [
    "#This is to show the name of each columns\n",
    "diab.columns"
   ]
  },
  {
   "cell_type": "code",
   "execution_count": 16,
   "id": "dbba815c",
   "metadata": {},
   "outputs": [],
   "source": [
    "#The next step is to rename a column and set the index\n",
    "diab.rename(columns={\"patient_number\":\"PatientID\"}, inplace=True)"
   ]
  },
  {
   "cell_type": "code",
   "execution_count": 17,
   "id": "493194b9",
   "metadata": {},
   "outputs": [],
   "source": [
    "diab.set_index('PatientID', inplace=True)"
   ]
  },
  {
   "cell_type": "code",
   "execution_count": 18,
   "id": "48796259",
   "metadata": {},
   "outputs": [
    {
     "name": "stdout",
     "output_type": "stream",
     "text": [
      "PatientID\n"
     ]
    }
   ],
   "source": [
    "print(diab.index.name)"
   ]
  },
  {
   "cell_type": "code",
   "execution_count": 19,
   "id": "2dc37b15",
   "metadata": {},
   "outputs": [
    {
     "data": {
      "text/html": [
       "<div>\n",
       "<style scoped>\n",
       "    .dataframe tbody tr th:only-of-type {\n",
       "        vertical-align: middle;\n",
       "    }\n",
       "\n",
       "    .dataframe tbody tr th {\n",
       "        vertical-align: top;\n",
       "    }\n",
       "\n",
       "    .dataframe thead th {\n",
       "        text-align: right;\n",
       "    }\n",
       "</style>\n",
       "<table border=\"1\" class=\"dataframe\">\n",
       "  <thead>\n",
       "    <tr style=\"text-align: right;\">\n",
       "      <th></th>\n",
       "      <th>cholesterol</th>\n",
       "      <th>glucose</th>\n",
       "      <th>hdl_chol</th>\n",
       "      <th>chol_hdl_ratio</th>\n",
       "      <th>age</th>\n",
       "      <th>gender</th>\n",
       "      <th>height</th>\n",
       "      <th>weight</th>\n",
       "      <th>systolic_bp</th>\n",
       "      <th>diastolic_bp</th>\n",
       "      <th>waist</th>\n",
       "      <th>hip</th>\n",
       "      <th>waist_hip_ratio</th>\n",
       "      <th>diabetes</th>\n",
       "    </tr>\n",
       "    <tr>\n",
       "      <th>PatientID</th>\n",
       "      <th></th>\n",
       "      <th></th>\n",
       "      <th></th>\n",
       "      <th></th>\n",
       "      <th></th>\n",
       "      <th></th>\n",
       "      <th></th>\n",
       "      <th></th>\n",
       "      <th></th>\n",
       "      <th></th>\n",
       "      <th></th>\n",
       "      <th></th>\n",
       "      <th></th>\n",
       "      <th></th>\n",
       "    </tr>\n",
       "  </thead>\n",
       "  <tbody>\n",
       "    <tr>\n",
       "      <th>1</th>\n",
       "      <td>193</td>\n",
       "      <td>77</td>\n",
       "      <td>49</td>\n",
       "      <td>3,9</td>\n",
       "      <td>19</td>\n",
       "      <td>female</td>\n",
       "      <td>61</td>\n",
       "      <td>119</td>\n",
       "      <td>118</td>\n",
       "      <td>70</td>\n",
       "      <td>32</td>\n",
       "      <td>38</td>\n",
       "      <td>0,84</td>\n",
       "      <td>No diabetes</td>\n",
       "    </tr>\n",
       "    <tr>\n",
       "      <th>2</th>\n",
       "      <td>146</td>\n",
       "      <td>79</td>\n",
       "      <td>41</td>\n",
       "      <td>3,6</td>\n",
       "      <td>19</td>\n",
       "      <td>female</td>\n",
       "      <td>60</td>\n",
       "      <td>135</td>\n",
       "      <td>108</td>\n",
       "      <td>58</td>\n",
       "      <td>33</td>\n",
       "      <td>40</td>\n",
       "      <td>0,83</td>\n",
       "      <td>No diabetes</td>\n",
       "    </tr>\n",
       "    <tr>\n",
       "      <th>3</th>\n",
       "      <td>217</td>\n",
       "      <td>75</td>\n",
       "      <td>54</td>\n",
       "      <td>4</td>\n",
       "      <td>20</td>\n",
       "      <td>female</td>\n",
       "      <td>67</td>\n",
       "      <td>187</td>\n",
       "      <td>110</td>\n",
       "      <td>72</td>\n",
       "      <td>40</td>\n",
       "      <td>45</td>\n",
       "      <td>0,89</td>\n",
       "      <td>No diabetes</td>\n",
       "    </tr>\n",
       "  </tbody>\n",
       "</table>\n",
       "</div>"
      ],
      "text/plain": [
       "           cholesterol  glucose  hdl_chol chol_hdl_ratio  age  gender  height  \\\n",
       "PatientID                                                                       \n",
       "1                  193       77        49            3,9   19  female      61   \n",
       "2                  146       79        41            3,6   19  female      60   \n",
       "3                  217       75        54              4   20  female      67   \n",
       "\n",
       "           weight  systolic_bp  diastolic_bp  waist  hip waist_hip_ratio  \\\n",
       "PatientID                                                                  \n",
       "1             119          118            70     32   38            0,84   \n",
       "2             135          108            58     33   40            0,83   \n",
       "3             187          110            72     40   45            0,89   \n",
       "\n",
       "              diabetes  \n",
       "PatientID               \n",
       "1          No diabetes  \n",
       "2          No diabetes  \n",
       "3          No diabetes  "
      ]
     },
     "execution_count": 19,
     "metadata": {},
     "output_type": "execute_result"
    }
   ],
   "source": [
    "diab.head(3)"
   ]
  },
  {
   "cell_type": "markdown",
   "id": "56fd072c",
   "metadata": {},
   "source": [
    "### Cleaning Of Dataset"
   ]
  },
  {
   "cell_type": "markdown",
   "id": "ee1e85d5",
   "metadata": {},
   "source": [
    "As two of the columns \"chol_hdl_ratio\" and \"waist_hip_ratio\" have 'commas', they will be replaced with 'fullstop' to accurately represent float values"
   ]
  },
  {
   "cell_type": "code",
   "execution_count": 20,
   "id": "984728e5",
   "metadata": {},
   "outputs": [
    {
     "data": {
      "text/plain": [
       "dtype('O')"
      ]
     },
     "execution_count": 20,
     "metadata": {},
     "output_type": "execute_result"
    }
   ],
   "source": [
    "diab['chol_hdl_ratio'].dtype #Currently in object dtype"
   ]
  },
  {
   "cell_type": "code",
   "execution_count": 21,
   "id": "1f436533",
   "metadata": {},
   "outputs": [
    {
     "data": {
      "text/plain": [
       "dtype('O')"
      ]
     },
     "execution_count": 21,
     "metadata": {},
     "output_type": "execute_result"
    }
   ],
   "source": [
    "diab['waist_hip_ratio'].dtype # currently in object dtype"
   ]
  },
  {
   "cell_type": "code",
   "execution_count": 22,
   "id": "6ab80218",
   "metadata": {},
   "outputs": [],
   "source": [
    "diab['chol_hdl_ratio'] = diab['chol_hdl_ratio'].str.replace(\",\",\".\").astype(float)\n",
    "diab['waist_hip_ratio'] = diab['waist_hip_ratio'].str.replace(\",\",\".\").astype(float)"
   ]
  },
  {
   "cell_type": "code",
   "execution_count": 24,
   "id": "4e851f05",
   "metadata": {},
   "outputs": [
    {
     "data": {
      "text/plain": [
       "dtype('float64')"
      ]
     },
     "execution_count": 24,
     "metadata": {},
     "output_type": "execute_result"
    }
   ],
   "source": [
    "diab['chol_hdl_ratio'].dtype # have been changed to float dtype"
   ]
  },
  {
   "cell_type": "code",
   "execution_count": 25,
   "id": "e1cba783",
   "metadata": {},
   "outputs": [
    {
     "data": {
      "text/plain": [
       "dtype('float64')"
      ]
     },
     "execution_count": 25,
     "metadata": {},
     "output_type": "execute_result"
    }
   ],
   "source": [
    "diab['waist_hip_ratio'].dtype # have been changed to float dtype"
   ]
  },
  {
   "cell_type": "code",
   "execution_count": 26,
   "id": "346451ff",
   "metadata": {},
   "outputs": [
    {
     "data": {
      "text/html": [
       "<div>\n",
       "<style scoped>\n",
       "    .dataframe tbody tr th:only-of-type {\n",
       "        vertical-align: middle;\n",
       "    }\n",
       "\n",
       "    .dataframe tbody tr th {\n",
       "        vertical-align: top;\n",
       "    }\n",
       "\n",
       "    .dataframe thead th {\n",
       "        text-align: right;\n",
       "    }\n",
       "</style>\n",
       "<table border=\"1\" class=\"dataframe\">\n",
       "  <thead>\n",
       "    <tr style=\"text-align: right;\">\n",
       "      <th></th>\n",
       "      <th>cholesterol</th>\n",
       "      <th>glucose</th>\n",
       "      <th>hdl_chol</th>\n",
       "      <th>chol_hdl_ratio</th>\n",
       "      <th>age</th>\n",
       "      <th>gender</th>\n",
       "      <th>height</th>\n",
       "      <th>weight</th>\n",
       "      <th>systolic_bp</th>\n",
       "      <th>diastolic_bp</th>\n",
       "      <th>waist</th>\n",
       "      <th>hip</th>\n",
       "      <th>waist_hip_ratio</th>\n",
       "      <th>diabetes</th>\n",
       "    </tr>\n",
       "    <tr>\n",
       "      <th>PatientID</th>\n",
       "      <th></th>\n",
       "      <th></th>\n",
       "      <th></th>\n",
       "      <th></th>\n",
       "      <th></th>\n",
       "      <th></th>\n",
       "      <th></th>\n",
       "      <th></th>\n",
       "      <th></th>\n",
       "      <th></th>\n",
       "      <th></th>\n",
       "      <th></th>\n",
       "      <th></th>\n",
       "      <th></th>\n",
       "    </tr>\n",
       "  </thead>\n",
       "  <tbody>\n",
       "    <tr>\n",
       "      <th>1</th>\n",
       "      <td>193</td>\n",
       "      <td>77</td>\n",
       "      <td>49</td>\n",
       "      <td>3.9</td>\n",
       "      <td>19</td>\n",
       "      <td>female</td>\n",
       "      <td>61</td>\n",
       "      <td>119</td>\n",
       "      <td>118</td>\n",
       "      <td>70</td>\n",
       "      <td>32</td>\n",
       "      <td>38</td>\n",
       "      <td>0.84</td>\n",
       "      <td>No diabetes</td>\n",
       "    </tr>\n",
       "    <tr>\n",
       "      <th>2</th>\n",
       "      <td>146</td>\n",
       "      <td>79</td>\n",
       "      <td>41</td>\n",
       "      <td>3.6</td>\n",
       "      <td>19</td>\n",
       "      <td>female</td>\n",
       "      <td>60</td>\n",
       "      <td>135</td>\n",
       "      <td>108</td>\n",
       "      <td>58</td>\n",
       "      <td>33</td>\n",
       "      <td>40</td>\n",
       "      <td>0.83</td>\n",
       "      <td>No diabetes</td>\n",
       "    </tr>\n",
       "    <tr>\n",
       "      <th>3</th>\n",
       "      <td>217</td>\n",
       "      <td>75</td>\n",
       "      <td>54</td>\n",
       "      <td>4.0</td>\n",
       "      <td>20</td>\n",
       "      <td>female</td>\n",
       "      <td>67</td>\n",
       "      <td>187</td>\n",
       "      <td>110</td>\n",
       "      <td>72</td>\n",
       "      <td>40</td>\n",
       "      <td>45</td>\n",
       "      <td>0.89</td>\n",
       "      <td>No diabetes</td>\n",
       "    </tr>\n",
       "  </tbody>\n",
       "</table>\n",
       "</div>"
      ],
      "text/plain": [
       "           cholesterol  glucose  hdl_chol  chol_hdl_ratio  age  gender  \\\n",
       "PatientID                                                                \n",
       "1                  193       77        49             3.9   19  female   \n",
       "2                  146       79        41             3.6   19  female   \n",
       "3                  217       75        54             4.0   20  female   \n",
       "\n",
       "           height  weight  systolic_bp  diastolic_bp  waist  hip  \\\n",
       "PatientID                                                          \n",
       "1              61     119          118            70     32   38   \n",
       "2              60     135          108            58     33   40   \n",
       "3              67     187          110            72     40   45   \n",
       "\n",
       "           waist_hip_ratio     diabetes  \n",
       "PatientID                                \n",
       "1                     0.84  No diabetes  \n",
       "2                     0.83  No diabetes  \n",
       "3                     0.89  No diabetes  "
      ]
     },
     "execution_count": 26,
     "metadata": {},
     "output_type": "execute_result"
    }
   ],
   "source": [
    "diab.head(3)"
   ]
  },
  {
   "cell_type": "markdown",
   "id": "55fde4ae",
   "metadata": {},
   "source": [
    "The theory behind the pathology of Diabetes explains that Glucose and Cholesterol levels are the major factors that leads to a patient to being predisposed by Diabetes.In this dataset, the data that is going to be focused on are the glucose and cholesterol factors in relation to the age of patients."
   ]
  },
  {
   "cell_type": "code",
   "execution_count": 27,
   "id": "3a2a13be",
   "metadata": {},
   "outputs": [
    {
     "data": {
      "text/html": [
       "<div>\n",
       "<style scoped>\n",
       "    .dataframe tbody tr th:only-of-type {\n",
       "        vertical-align: middle;\n",
       "    }\n",
       "\n",
       "    .dataframe tbody tr th {\n",
       "        vertical-align: top;\n",
       "    }\n",
       "\n",
       "    .dataframe thead th {\n",
       "        text-align: right;\n",
       "    }\n",
       "</style>\n",
       "<table border=\"1\" class=\"dataframe\">\n",
       "  <thead>\n",
       "    <tr style=\"text-align: right;\">\n",
       "      <th></th>\n",
       "      <th>age</th>\n",
       "    </tr>\n",
       "    <tr>\n",
       "      <th>PatientID</th>\n",
       "      <th></th>\n",
       "    </tr>\n",
       "  </thead>\n",
       "  <tbody>\n",
       "    <tr>\n",
       "      <th>1</th>\n",
       "      <td>19</td>\n",
       "    </tr>\n",
       "    <tr>\n",
       "      <th>2</th>\n",
       "      <td>19</td>\n",
       "    </tr>\n",
       "    <tr>\n",
       "      <th>3</th>\n",
       "      <td>20</td>\n",
       "    </tr>\n",
       "  </tbody>\n",
       "</table>\n",
       "</div>"
      ],
      "text/plain": [
       "           age\n",
       "PatientID     \n",
       "1           19\n",
       "2           19\n",
       "3           20"
      ]
     },
     "execution_count": 27,
     "metadata": {},
     "output_type": "execute_result"
    }
   ],
   "source": [
    "diab[['age']].head(3)"
   ]
  },
  {
   "cell_type": "code",
   "execution_count": 28,
   "id": "a10d0398",
   "metadata": {},
   "outputs": [
    {
     "data": {
      "text/plain": [
       "array([19, 20, 21, 22, 23, 24, 25, 26, 27, 28, 29, 30, 31, 32, 33, 34, 35,\n",
       "       36, 37, 38, 39, 40, 41, 42, 43, 44, 45, 46, 47, 48, 49, 50, 51, 52,\n",
       "       53, 54, 55, 56, 57, 58, 59, 60, 61, 62, 63, 64, 65, 66, 67, 68, 69,\n",
       "       70, 71, 72, 73, 74, 75, 76, 78, 79, 80, 81, 82, 83, 84, 89, 91, 92])"
      ]
     },
     "execution_count": 28,
     "metadata": {},
     "output_type": "execute_result"
    }
   ],
   "source": [
    "#To check all the ages present in the dataset\n",
    "diab['age'].unique()"
   ]
  },
  {
   "cell_type": "code",
   "execution_count": 29,
   "id": "e4cce2eb",
   "metadata": {},
   "outputs": [
    {
     "data": {
      "text/plain": [
       "age\n",
       "40     16\n",
       "36     13\n",
       "43     12\n",
       "41     12\n",
       "37     11\n",
       "       ..\n",
       "83      1\n",
       "84      1\n",
       "89      1\n",
       "91      1\n",
       "92      1\n",
       "Length: 68, dtype: int64"
      ]
     },
     "execution_count": 29,
     "metadata": {},
     "output_type": "execute_result"
    }
   ],
   "source": [
    "#This step is to count the frequency of patients with corresponding age\n",
    "diab[['age']].value_counts()"
   ]
  },
  {
   "cell_type": "code",
   "execution_count": 31,
   "id": "2398180d",
   "metadata": {},
   "outputs": [
    {
     "data": {
      "text/html": [
       "<div>\n",
       "<style scoped>\n",
       "    .dataframe tbody tr th:only-of-type {\n",
       "        vertical-align: middle;\n",
       "    }\n",
       "\n",
       "    .dataframe tbody tr th {\n",
       "        vertical-align: top;\n",
       "    }\n",
       "\n",
       "    .dataframe thead th {\n",
       "        text-align: right;\n",
       "    }\n",
       "</style>\n",
       "<table border=\"1\" class=\"dataframe\">\n",
       "  <thead>\n",
       "    <tr style=\"text-align: right;\">\n",
       "      <th></th>\n",
       "      <th>cholesterol</th>\n",
       "      <th>glucose</th>\n",
       "      <th>hdl_chol</th>\n",
       "      <th>chol_hdl_ratio</th>\n",
       "      <th>gender</th>\n",
       "      <th>height</th>\n",
       "      <th>weight</th>\n",
       "      <th>systolic_bp</th>\n",
       "      <th>diastolic_bp</th>\n",
       "      <th>waist</th>\n",
       "      <th>hip</th>\n",
       "      <th>waist_hip_ratio</th>\n",
       "      <th>diabetes</th>\n",
       "    </tr>\n",
       "    <tr>\n",
       "      <th>age</th>\n",
       "      <th></th>\n",
       "      <th></th>\n",
       "      <th></th>\n",
       "      <th></th>\n",
       "      <th></th>\n",
       "      <th></th>\n",
       "      <th></th>\n",
       "      <th></th>\n",
       "      <th></th>\n",
       "      <th></th>\n",
       "      <th></th>\n",
       "      <th></th>\n",
       "      <th></th>\n",
       "    </tr>\n",
       "  </thead>\n",
       "  <tbody>\n",
       "    <tr>\n",
       "      <th>19</th>\n",
       "      <td>2</td>\n",
       "      <td>2</td>\n",
       "      <td>2</td>\n",
       "      <td>2</td>\n",
       "      <td>2</td>\n",
       "      <td>2</td>\n",
       "      <td>2</td>\n",
       "      <td>2</td>\n",
       "      <td>2</td>\n",
       "      <td>2</td>\n",
       "      <td>2</td>\n",
       "      <td>2</td>\n",
       "      <td>2</td>\n",
       "    </tr>\n",
       "    <tr>\n",
       "      <th>20</th>\n",
       "      <td>10</td>\n",
       "      <td>10</td>\n",
       "      <td>10</td>\n",
       "      <td>10</td>\n",
       "      <td>10</td>\n",
       "      <td>10</td>\n",
       "      <td>10</td>\n",
       "      <td>10</td>\n",
       "      <td>10</td>\n",
       "      <td>10</td>\n",
       "      <td>10</td>\n",
       "      <td>10</td>\n",
       "      <td>10</td>\n",
       "    </tr>\n",
       "    <tr>\n",
       "      <th>21</th>\n",
       "      <td>6</td>\n",
       "      <td>6</td>\n",
       "      <td>6</td>\n",
       "      <td>6</td>\n",
       "      <td>6</td>\n",
       "      <td>6</td>\n",
       "      <td>6</td>\n",
       "      <td>6</td>\n",
       "      <td>6</td>\n",
       "      <td>6</td>\n",
       "      <td>6</td>\n",
       "      <td>6</td>\n",
       "      <td>6</td>\n",
       "    </tr>\n",
       "    <tr>\n",
       "      <th>22</th>\n",
       "      <td>5</td>\n",
       "      <td>5</td>\n",
       "      <td>5</td>\n",
       "      <td>5</td>\n",
       "      <td>5</td>\n",
       "      <td>5</td>\n",
       "      <td>5</td>\n",
       "      <td>5</td>\n",
       "      <td>5</td>\n",
       "      <td>5</td>\n",
       "      <td>5</td>\n",
       "      <td>5</td>\n",
       "      <td>5</td>\n",
       "    </tr>\n",
       "    <tr>\n",
       "      <th>23</th>\n",
       "      <td>7</td>\n",
       "      <td>7</td>\n",
       "      <td>7</td>\n",
       "      <td>7</td>\n",
       "      <td>7</td>\n",
       "      <td>7</td>\n",
       "      <td>7</td>\n",
       "      <td>7</td>\n",
       "      <td>7</td>\n",
       "      <td>7</td>\n",
       "      <td>7</td>\n",
       "      <td>7</td>\n",
       "      <td>7</td>\n",
       "    </tr>\n",
       "    <tr>\n",
       "      <th>24</th>\n",
       "      <td>1</td>\n",
       "      <td>1</td>\n",
       "      <td>1</td>\n",
       "      <td>1</td>\n",
       "      <td>1</td>\n",
       "      <td>1</td>\n",
       "      <td>1</td>\n",
       "      <td>1</td>\n",
       "      <td>1</td>\n",
       "      <td>1</td>\n",
       "      <td>1</td>\n",
       "      <td>1</td>\n",
       "      <td>1</td>\n",
       "    </tr>\n",
       "    <tr>\n",
       "      <th>25</th>\n",
       "      <td>4</td>\n",
       "      <td>4</td>\n",
       "      <td>4</td>\n",
       "      <td>4</td>\n",
       "      <td>4</td>\n",
       "      <td>4</td>\n",
       "      <td>4</td>\n",
       "      <td>4</td>\n",
       "      <td>4</td>\n",
       "      <td>4</td>\n",
       "      <td>4</td>\n",
       "      <td>4</td>\n",
       "      <td>4</td>\n",
       "    </tr>\n",
       "    <tr>\n",
       "      <th>26</th>\n",
       "      <td>6</td>\n",
       "      <td>6</td>\n",
       "      <td>6</td>\n",
       "      <td>6</td>\n",
       "      <td>6</td>\n",
       "      <td>6</td>\n",
       "      <td>6</td>\n",
       "      <td>6</td>\n",
       "      <td>6</td>\n",
       "      <td>6</td>\n",
       "      <td>6</td>\n",
       "      <td>6</td>\n",
       "      <td>6</td>\n",
       "    </tr>\n",
       "    <tr>\n",
       "      <th>27</th>\n",
       "      <td>9</td>\n",
       "      <td>9</td>\n",
       "      <td>9</td>\n",
       "      <td>9</td>\n",
       "      <td>9</td>\n",
       "      <td>9</td>\n",
       "      <td>9</td>\n",
       "      <td>9</td>\n",
       "      <td>9</td>\n",
       "      <td>9</td>\n",
       "      <td>9</td>\n",
       "      <td>9</td>\n",
       "      <td>9</td>\n",
       "    </tr>\n",
       "    <tr>\n",
       "      <th>28</th>\n",
       "      <td>8</td>\n",
       "      <td>8</td>\n",
       "      <td>8</td>\n",
       "      <td>8</td>\n",
       "      <td>8</td>\n",
       "      <td>8</td>\n",
       "      <td>8</td>\n",
       "      <td>8</td>\n",
       "      <td>8</td>\n",
       "      <td>8</td>\n",
       "      <td>8</td>\n",
       "      <td>8</td>\n",
       "      <td>8</td>\n",
       "    </tr>\n",
       "    <tr>\n",
       "      <th>29</th>\n",
       "      <td>7</td>\n",
       "      <td>7</td>\n",
       "      <td>7</td>\n",
       "      <td>7</td>\n",
       "      <td>7</td>\n",
       "      <td>7</td>\n",
       "      <td>7</td>\n",
       "      <td>7</td>\n",
       "      <td>7</td>\n",
       "      <td>7</td>\n",
       "      <td>7</td>\n",
       "      <td>7</td>\n",
       "      <td>7</td>\n",
       "    </tr>\n",
       "    <tr>\n",
       "      <th>30</th>\n",
       "      <td>9</td>\n",
       "      <td>9</td>\n",
       "      <td>9</td>\n",
       "      <td>9</td>\n",
       "      <td>9</td>\n",
       "      <td>9</td>\n",
       "      <td>9</td>\n",
       "      <td>9</td>\n",
       "      <td>9</td>\n",
       "      <td>9</td>\n",
       "      <td>9</td>\n",
       "      <td>9</td>\n",
       "      <td>9</td>\n",
       "    </tr>\n",
       "    <tr>\n",
       "      <th>31</th>\n",
       "      <td>9</td>\n",
       "      <td>9</td>\n",
       "      <td>9</td>\n",
       "      <td>9</td>\n",
       "      <td>9</td>\n",
       "      <td>9</td>\n",
       "      <td>9</td>\n",
       "      <td>9</td>\n",
       "      <td>9</td>\n",
       "      <td>9</td>\n",
       "      <td>9</td>\n",
       "      <td>9</td>\n",
       "      <td>9</td>\n",
       "    </tr>\n",
       "    <tr>\n",
       "      <th>32</th>\n",
       "      <td>4</td>\n",
       "      <td>4</td>\n",
       "      <td>4</td>\n",
       "      <td>4</td>\n",
       "      <td>4</td>\n",
       "      <td>4</td>\n",
       "      <td>4</td>\n",
       "      <td>4</td>\n",
       "      <td>4</td>\n",
       "      <td>4</td>\n",
       "      <td>4</td>\n",
       "      <td>4</td>\n",
       "      <td>4</td>\n",
       "    </tr>\n",
       "    <tr>\n",
       "      <th>33</th>\n",
       "      <td>6</td>\n",
       "      <td>6</td>\n",
       "      <td>6</td>\n",
       "      <td>6</td>\n",
       "      <td>6</td>\n",
       "      <td>6</td>\n",
       "      <td>6</td>\n",
       "      <td>6</td>\n",
       "      <td>6</td>\n",
       "      <td>6</td>\n",
       "      <td>6</td>\n",
       "      <td>6</td>\n",
       "      <td>6</td>\n",
       "    </tr>\n",
       "    <tr>\n",
       "      <th>34</th>\n",
       "      <td>7</td>\n",
       "      <td>7</td>\n",
       "      <td>7</td>\n",
       "      <td>7</td>\n",
       "      <td>7</td>\n",
       "      <td>7</td>\n",
       "      <td>7</td>\n",
       "      <td>7</td>\n",
       "      <td>7</td>\n",
       "      <td>7</td>\n",
       "      <td>7</td>\n",
       "      <td>7</td>\n",
       "      <td>7</td>\n",
       "    </tr>\n",
       "    <tr>\n",
       "      <th>35</th>\n",
       "      <td>5</td>\n",
       "      <td>5</td>\n",
       "      <td>5</td>\n",
       "      <td>5</td>\n",
       "      <td>5</td>\n",
       "      <td>5</td>\n",
       "      <td>5</td>\n",
       "      <td>5</td>\n",
       "      <td>5</td>\n",
       "      <td>5</td>\n",
       "      <td>5</td>\n",
       "      <td>5</td>\n",
       "      <td>5</td>\n",
       "    </tr>\n",
       "    <tr>\n",
       "      <th>36</th>\n",
       "      <td>13</td>\n",
       "      <td>13</td>\n",
       "      <td>13</td>\n",
       "      <td>13</td>\n",
       "      <td>13</td>\n",
       "      <td>13</td>\n",
       "      <td>13</td>\n",
       "      <td>13</td>\n",
       "      <td>13</td>\n",
       "      <td>13</td>\n",
       "      <td>13</td>\n",
       "      <td>13</td>\n",
       "      <td>13</td>\n",
       "    </tr>\n",
       "    <tr>\n",
       "      <th>37</th>\n",
       "      <td>11</td>\n",
       "      <td>11</td>\n",
       "      <td>11</td>\n",
       "      <td>11</td>\n",
       "      <td>11</td>\n",
       "      <td>11</td>\n",
       "      <td>11</td>\n",
       "      <td>11</td>\n",
       "      <td>11</td>\n",
       "      <td>11</td>\n",
       "      <td>11</td>\n",
       "      <td>11</td>\n",
       "      <td>11</td>\n",
       "    </tr>\n",
       "    <tr>\n",
       "      <th>38</th>\n",
       "      <td>11</td>\n",
       "      <td>11</td>\n",
       "      <td>11</td>\n",
       "      <td>11</td>\n",
       "      <td>11</td>\n",
       "      <td>11</td>\n",
       "      <td>11</td>\n",
       "      <td>11</td>\n",
       "      <td>11</td>\n",
       "      <td>11</td>\n",
       "      <td>11</td>\n",
       "      <td>11</td>\n",
       "      <td>11</td>\n",
       "    </tr>\n",
       "  </tbody>\n",
       "</table>\n",
       "</div>"
      ],
      "text/plain": [
       "     cholesterol  glucose  hdl_chol  chol_hdl_ratio  gender  height  weight  \\\n",
       "age                                                                           \n",
       "19             2        2         2               2       2       2       2   \n",
       "20            10       10        10              10      10      10      10   \n",
       "21             6        6         6               6       6       6       6   \n",
       "22             5        5         5               5       5       5       5   \n",
       "23             7        7         7               7       7       7       7   \n",
       "24             1        1         1               1       1       1       1   \n",
       "25             4        4         4               4       4       4       4   \n",
       "26             6        6         6               6       6       6       6   \n",
       "27             9        9         9               9       9       9       9   \n",
       "28             8        8         8               8       8       8       8   \n",
       "29             7        7         7               7       7       7       7   \n",
       "30             9        9         9               9       9       9       9   \n",
       "31             9        9         9               9       9       9       9   \n",
       "32             4        4         4               4       4       4       4   \n",
       "33             6        6         6               6       6       6       6   \n",
       "34             7        7         7               7       7       7       7   \n",
       "35             5        5         5               5       5       5       5   \n",
       "36            13       13        13              13      13      13      13   \n",
       "37            11       11        11              11      11      11      11   \n",
       "38            11       11        11              11      11      11      11   \n",
       "\n",
       "     systolic_bp  diastolic_bp  waist  hip  waist_hip_ratio  diabetes  \n",
       "age                                                                    \n",
       "19             2             2      2    2                2         2  \n",
       "20            10            10     10   10               10        10  \n",
       "21             6             6      6    6                6         6  \n",
       "22             5             5      5    5                5         5  \n",
       "23             7             7      7    7                7         7  \n",
       "24             1             1      1    1                1         1  \n",
       "25             4             4      4    4                4         4  \n",
       "26             6             6      6    6                6         6  \n",
       "27             9             9      9    9                9         9  \n",
       "28             8             8      8    8                8         8  \n",
       "29             7             7      7    7                7         7  \n",
       "30             9             9      9    9                9         9  \n",
       "31             9             9      9    9                9         9  \n",
       "32             4             4      4    4                4         4  \n",
       "33             6             6      6    6                6         6  \n",
       "34             7             7      7    7                7         7  \n",
       "35             5             5      5    5                5         5  \n",
       "36            13            13     13   13               13        13  \n",
       "37            11            11     11   11               11        11  \n",
       "38            11            11     11   11               11        11  "
      ]
     },
     "execution_count": 31,
     "metadata": {},
     "output_type": "execute_result"
    }
   ],
   "source": [
    "#It concurs with the value counts above\n",
    "diab.groupby(by='age').count().head(20)"
   ]
  },
  {
   "cell_type": "code",
   "execution_count": 32,
   "id": "09ee0cf3",
   "metadata": {},
   "outputs": [
    {
     "data": {
      "text/html": [
       "<div>\n",
       "<style scoped>\n",
       "    .dataframe tbody tr th:only-of-type {\n",
       "        vertical-align: middle;\n",
       "    }\n",
       "\n",
       "    .dataframe tbody tr th {\n",
       "        vertical-align: top;\n",
       "    }\n",
       "\n",
       "    .dataframe thead th {\n",
       "        text-align: right;\n",
       "    }\n",
       "</style>\n",
       "<table border=\"1\" class=\"dataframe\">\n",
       "  <thead>\n",
       "    <tr style=\"text-align: right;\">\n",
       "      <th></th>\n",
       "      <th>age</th>\n",
       "      <th>cholesterol</th>\n",
       "      <th>glucose</th>\n",
       "    </tr>\n",
       "    <tr>\n",
       "      <th>PatientID</th>\n",
       "      <th></th>\n",
       "      <th></th>\n",
       "      <th></th>\n",
       "    </tr>\n",
       "  </thead>\n",
       "  <tbody>\n",
       "    <tr>\n",
       "      <th>1</th>\n",
       "      <td>19</td>\n",
       "      <td>193</td>\n",
       "      <td>77</td>\n",
       "    </tr>\n",
       "    <tr>\n",
       "      <th>2</th>\n",
       "      <td>19</td>\n",
       "      <td>146</td>\n",
       "      <td>79</td>\n",
       "    </tr>\n",
       "    <tr>\n",
       "      <th>3</th>\n",
       "      <td>20</td>\n",
       "      <td>217</td>\n",
       "      <td>75</td>\n",
       "    </tr>\n",
       "    <tr>\n",
       "      <th>4</th>\n",
       "      <td>20</td>\n",
       "      <td>226</td>\n",
       "      <td>97</td>\n",
       "    </tr>\n",
       "    <tr>\n",
       "      <th>5</th>\n",
       "      <td>20</td>\n",
       "      <td>164</td>\n",
       "      <td>91</td>\n",
       "    </tr>\n",
       "  </tbody>\n",
       "</table>\n",
       "</div>"
      ],
      "text/plain": [
       "           age  cholesterol  glucose\n",
       "PatientID                           \n",
       "1           19          193       77\n",
       "2           19          146       79\n",
       "3           20          217       75\n",
       "4           20          226       97\n",
       "5           20          164       91"
      ]
     },
     "execution_count": 32,
     "metadata": {},
     "output_type": "execute_result"
    }
   ],
   "source": [
    "#Focusing on the 3 main factors of this study\n",
    "diab.loc[:,['age','cholesterol','glucose']].head(5)"
   ]
  },
  {
   "cell_type": "code",
   "execution_count": 33,
   "id": "1b35f2bf",
   "metadata": {},
   "outputs": [
    {
     "data": {
      "text/html": [
       "<div>\n",
       "<style scoped>\n",
       "    .dataframe tbody tr th:only-of-type {\n",
       "        vertical-align: middle;\n",
       "    }\n",
       "\n",
       "    .dataframe tbody tr th {\n",
       "        vertical-align: top;\n",
       "    }\n",
       "\n",
       "    .dataframe thead th {\n",
       "        text-align: right;\n",
       "    }\n",
       "</style>\n",
       "<table border=\"1\" class=\"dataframe\">\n",
       "  <thead>\n",
       "    <tr style=\"text-align: right;\">\n",
       "      <th></th>\n",
       "      <th>age</th>\n",
       "      <th>cholesterol</th>\n",
       "      <th>glucose</th>\n",
       "    </tr>\n",
       "  </thead>\n",
       "  <tbody>\n",
       "    <tr>\n",
       "      <th>count</th>\n",
       "      <td>390.000000</td>\n",
       "      <td>390.000000</td>\n",
       "      <td>390.000000</td>\n",
       "    </tr>\n",
       "    <tr>\n",
       "      <th>mean</th>\n",
       "      <td>46.774359</td>\n",
       "      <td>207.230769</td>\n",
       "      <td>107.338462</td>\n",
       "    </tr>\n",
       "    <tr>\n",
       "      <th>std</th>\n",
       "      <td>16.435911</td>\n",
       "      <td>44.666005</td>\n",
       "      <td>53.798188</td>\n",
       "    </tr>\n",
       "    <tr>\n",
       "      <th>min</th>\n",
       "      <td>19.000000</td>\n",
       "      <td>78.000000</td>\n",
       "      <td>48.000000</td>\n",
       "    </tr>\n",
       "    <tr>\n",
       "      <th>25%</th>\n",
       "      <td>34.000000</td>\n",
       "      <td>179.000000</td>\n",
       "      <td>81.000000</td>\n",
       "    </tr>\n",
       "    <tr>\n",
       "      <th>50%</th>\n",
       "      <td>44.500000</td>\n",
       "      <td>203.000000</td>\n",
       "      <td>90.000000</td>\n",
       "    </tr>\n",
       "    <tr>\n",
       "      <th>75%</th>\n",
       "      <td>60.000000</td>\n",
       "      <td>229.000000</td>\n",
       "      <td>107.750000</td>\n",
       "    </tr>\n",
       "    <tr>\n",
       "      <th>max</th>\n",
       "      <td>92.000000</td>\n",
       "      <td>443.000000</td>\n",
       "      <td>385.000000</td>\n",
       "    </tr>\n",
       "  </tbody>\n",
       "</table>\n",
       "</div>"
      ],
      "text/plain": [
       "              age  cholesterol     glucose\n",
       "count  390.000000   390.000000  390.000000\n",
       "mean    46.774359   207.230769  107.338462\n",
       "std     16.435911    44.666005   53.798188\n",
       "min     19.000000    78.000000   48.000000\n",
       "25%     34.000000   179.000000   81.000000\n",
       "50%     44.500000   203.000000   90.000000\n",
       "75%     60.000000   229.000000  107.750000\n",
       "max     92.000000   443.000000  385.000000"
      ]
     },
     "execution_count": 33,
     "metadata": {},
     "output_type": "execute_result"
    }
   ],
   "source": [
    "#To give a summary of these values\n",
    "diab.loc[:,['age','cholesterol','glucose']].describe()"
   ]
  },
  {
   "cell_type": "markdown",
   "id": "726ba0a3",
   "metadata": {},
   "source": [
    "# Plotting The Values for Visual Representation"
   ]
  },
  {
   "cell_type": "markdown",
   "id": "28482a2d",
   "metadata": {},
   "source": [
    "The graph below details the frequency of patients to the age in this dataset."
   ]
  },
  {
   "cell_type": "code",
   "execution_count": 35,
   "id": "e6f1908d",
   "metadata": {},
   "outputs": [
    {
     "data": {
      "image/png": "[encoded data removed]",
      "text/plain": [
       "<Figure size 576x432 with 1 Axes>"
      ]
     },
     "metadata": {},
     "output_type": "display_data"
    }
   ],
   "source": [
    "diab['age'].plot(kind='hist', bins= 18, title='Histogram of Age');\n",
    "plt.xlabel(\"Age\");"
   ]
  },
  {
   "cell_type": "markdown",
   "id": "b90e522e",
   "metadata": {},
   "source": [
    "Below are two scatterplot graphs which visually represent the two major factors that are being focused in this dataset."
   ]
  },
  {
   "cell_type": "code",
   "execution_count": 36,
   "id": "fbfd0fee",
   "metadata": {},
   "outputs": [
    {
     "data": {
      "image/png": "[encoded data removed]",
      "text/plain": [
       "<Figure size 720x360 with 1 Axes>"
      ]
     },
     "metadata": {},
     "output_type": "display_data"
    }
   ],
   "source": [
    "diab.plot(kind='scatter', x='age', y='glucose', colormap='jet', figsize=(10,5), title= \"Scatterplot of Glucose vs Age\");\n",
    "plt.xlabel('Age');"
   ]
  },
  {
   "cell_type": "code",
   "execution_count": 37,
   "id": "f4d81e65",
   "metadata": {},
   "outputs": [
    {
     "data": {
      "text/html": [
       "<div>\n",
       "<style scoped>\n",
       "    .dataframe tbody tr th:only-of-type {\n",
       "        vertical-align: middle;\n",
       "    }\n",
       "\n",
       "    .dataframe tbody tr th {\n",
       "        vertical-align: top;\n",
       "    }\n",
       "\n",
       "    .dataframe thead th {\n",
       "        text-align: right;\n",
       "    }\n",
       "</style>\n",
       "<table border=\"1\" class=\"dataframe\">\n",
       "  <thead>\n",
       "    <tr style=\"text-align: right;\">\n",
       "      <th></th>\n",
       "      <th>age</th>\n",
       "      <th>glucose</th>\n",
       "    </tr>\n",
       "    <tr>\n",
       "      <th>PatientID</th>\n",
       "      <th></th>\n",
       "      <th></th>\n",
       "    </tr>\n",
       "  </thead>\n",
       "  <tbody>\n",
       "    <tr>\n",
       "      <th>386</th>\n",
       "      <td>83</td>\n",
       "      <td>105</td>\n",
       "    </tr>\n",
       "    <tr>\n",
       "      <th>387</th>\n",
       "      <td>84</td>\n",
       "      <td>279</td>\n",
       "    </tr>\n",
       "    <tr>\n",
       "      <th>388</th>\n",
       "      <td>89</td>\n",
       "      <td>90</td>\n",
       "    </tr>\n",
       "    <tr>\n",
       "      <th>389</th>\n",
       "      <td>91</td>\n",
       "      <td>184</td>\n",
       "    </tr>\n",
       "    <tr>\n",
       "      <th>390</th>\n",
       "      <td>92</td>\n",
       "      <td>94</td>\n",
       "    </tr>\n",
       "  </tbody>\n",
       "</table>\n",
       "</div>"
      ],
      "text/plain": [
       "           age  glucose\n",
       "PatientID              \n",
       "386         83      105\n",
       "387         84      279\n",
       "388         89       90\n",
       "389         91      184\n",
       "390         92       94"
      ]
     },
     "execution_count": 37,
     "metadata": {},
     "output_type": "execute_result"
    }
   ],
   "source": [
    "diab[['age','glucose']].tail(5)\n",
    "#The age 92 corresponds to the value 94"
   ]
  },
  {
   "cell_type": "code",
   "execution_count": 38,
   "id": "9537e462",
   "metadata": {},
   "outputs": [
    {
     "data": {
      "image/png": "[encoded data removed]",
      "text/plain": [
       "<Figure size 720x360 with 1 Axes>"
      ]
     },
     "metadata": {},
     "output_type": "display_data"
    }
   ],
   "source": [
    "diab.plot(kind='scatter', x='age', y='cholesterol', colormap='winter', figsize=(10,5),title=\"Scatterplot of Cholesterol vs Age\");\n",
    "plt.xlabel('Age');"
   ]
  },
  {
   "cell_type": "code",
   "execution_count": 39,
   "id": "b8f263fd",
   "metadata": {},
   "outputs": [
    {
     "data": {
      "text/html": [
       "<div>\n",
       "<style scoped>\n",
       "    .dataframe tbody tr th:only-of-type {\n",
       "        vertical-align: middle;\n",
       "    }\n",
       "\n",
       "    .dataframe tbody tr th {\n",
       "        vertical-align: top;\n",
       "    }\n",
       "\n",
       "    .dataframe thead th {\n",
       "        text-align: right;\n",
       "    }\n",
       "</style>\n",
       "<table border=\"1\" class=\"dataframe\">\n",
       "  <thead>\n",
       "    <tr style=\"text-align: right;\">\n",
       "      <th></th>\n",
       "      <th>age</th>\n",
       "      <th>cholesterol</th>\n",
       "    </tr>\n",
       "    <tr>\n",
       "      <th>PatientID</th>\n",
       "      <th></th>\n",
       "      <th></th>\n",
       "    </tr>\n",
       "  </thead>\n",
       "  <tbody>\n",
       "    <tr>\n",
       "      <th>386</th>\n",
       "      <td>83</td>\n",
       "      <td>227</td>\n",
       "    </tr>\n",
       "    <tr>\n",
       "      <th>387</th>\n",
       "      <td>84</td>\n",
       "      <td>226</td>\n",
       "    </tr>\n",
       "    <tr>\n",
       "      <th>388</th>\n",
       "      <td>89</td>\n",
       "      <td>301</td>\n",
       "    </tr>\n",
       "    <tr>\n",
       "      <th>389</th>\n",
       "      <td>91</td>\n",
       "      <td>232</td>\n",
       "    </tr>\n",
       "    <tr>\n",
       "      <th>390</th>\n",
       "      <td>92</td>\n",
       "      <td>165</td>\n",
       "    </tr>\n",
       "  </tbody>\n",
       "</table>\n",
       "</div>"
      ],
      "text/plain": [
       "           age  cholesterol\n",
       "PatientID                  \n",
       "386         83          227\n",
       "387         84          226\n",
       "388         89          301\n",
       "389         91          232\n",
       "390         92          165"
      ]
     },
     "execution_count": 39,
     "metadata": {},
     "output_type": "execute_result"
    }
   ],
   "source": [
    "diab[['age','cholesterol']].tail(5)\n",
    "#The age 92 corresponds to the value 165"
   ]
  },
  {
   "cell_type": "markdown",
   "id": "62f4b989",
   "metadata": {},
   "source": [
    "The pie charts below shows the distribution of male and female genders in this dataset."
   ]
  },
  {
   "cell_type": "code",
   "execution_count": 40,
   "id": "2dab7803",
   "metadata": {},
   "outputs": [
    {
     "data": {
      "image/png": "[encoded data removed]",
      "text/plain": [
       "<Figure size 576x432 with 1 Axes>"
      ]
     },
     "metadata": {},
     "output_type": "display_data"
    }
   ],
   "source": [
    "diab['gender'].value_counts().plot(kind='pie');"
   ]
  },
  {
   "cell_type": "code",
   "execution_count": 41,
   "id": "b091dc4f",
   "metadata": {},
   "outputs": [
    {
     "data": {
      "text/plain": [
       "female    228\n",
       "male      162\n",
       "Name: gender, dtype: int64"
      ]
     },
     "execution_count": 41,
     "metadata": {},
     "output_type": "execute_result"
    }
   ],
   "source": [
    "diab['gender'].value_counts()"
   ]
  },
  {
   "cell_type": "code",
   "execution_count": 42,
   "id": "95711f5c",
   "metadata": {},
   "outputs": [
    {
     "data": {
      "image/png": "[encoded data removed]",
      "text/plain": [
       "<Figure size 576x432 with 1 Axes>"
      ]
     },
     "metadata": {},
     "output_type": "display_data"
    }
   ],
   "source": [
    "y=diab['gender'].value_counts()\n",
    "mylabels = diab['gender'].value_counts()\n",
    "plt.pie(y, labels = mylabels, autopct='%1.0f%%', pctdistance=1.1, labeldistance=1.2);\n",
    "plt.legend(title = \"Gender\");\n",
    "plt.xlabel(\"Overall Distribution of Gender\");\n",
    "plt.show()"
   ]
  },
  {
   "cell_type": "markdown",
   "id": "fc0e214d",
   "metadata": {},
   "source": [
    "However, in this dataset only a selected number of patients are diagnosed with Diabetes. The following pie chart is to see if the gender distribution ratio is similar in the patients who are diagnosed with diabetes in comparison to overall dataset."
   ]
  },
  {
   "cell_type": "code",
   "execution_count": 43,
   "id": "f06356d2",
   "metadata": {},
   "outputs": [
    {
     "data": {
      "text/plain": [
       "No diabetes    330\n",
       "Diabetes        60\n",
       "Name: diabetes, dtype: int64"
      ]
     },
     "execution_count": 43,
     "metadata": {},
     "output_type": "execute_result"
    }
   ],
   "source": [
    "diab['diabetes'].value_counts()\n",
    "# to see the number of patients in this dataset who are diabetic"
   ]
  },
  {
   "cell_type": "code",
   "execution_count": 44,
   "id": "9b2d3499",
   "metadata": {},
   "outputs": [
    {
     "data": {
      "text/plain": [
       "female    34\n",
       "male      26\n",
       "Name: gender, dtype: int64"
      ]
     },
     "execution_count": 44,
     "metadata": {},
     "output_type": "execute_result"
    }
   ],
   "source": [
    "diab[diab['diabetes'] == 'Diabetes']['gender'].value_counts()"
   ]
  },
  {
   "cell_type": "code",
   "execution_count": 45,
   "id": "52bda16d",
   "metadata": {},
   "outputs": [
    {
     "data": {
      "image/png": "[encoded data removed]",
      "text/plain": [
       "<Figure size 576x432 with 1 Axes>"
      ]
     },
     "metadata": {},
     "output_type": "display_data"
    }
   ],
   "source": [
    "y=diab[diab['diabetes'] == 'Diabetes']['gender'].value_counts()\n",
    "mylabels = diab[diab['diabetes'] == 'Diabetes']['gender'].value_counts()\n",
    "plt.pie(y, labels = mylabels, autopct='%1.0f%%', pctdistance=1.1, labeldistance=1.2);\n",
    "plt.legend(title = \"Gender\");\n",
    "plt.xlabel(\"Patients with Diabetes\");\n",
    "plt.show()"
   ]
  },
  {
   "cell_type": "markdown",
   "id": "424e22c9",
   "metadata": {},
   "source": [
    "Though there are many factors that contribute to a patient developing Diabetes, the main factor that contributes to developing the disease is the glucose levels in a patient. Thus, a scatterplot is plotted to have a better visualization of the patients who have developed diabetes in this dataset."
   ]
  },
  {
   "cell_type": "code",
   "execution_count": 46,
   "id": "28511d72",
   "metadata": {},
   "outputs": [
    {
     "data": {
      "text/plain": [
       "{'No diabetes': 0, 'Diabetes': 1}"
      ]
     },
     "execution_count": 46,
     "metadata": {},
     "output_type": "execute_result"
    }
   ],
   "source": [
    "#Mapping the diabetes column to a dictionary\n",
    "mapping_dict = {}\n",
    "my_counter = 0\n",
    "for type in list(diab['diabetes'].unique()):\n",
    "    mapping_dict[type] = my_counter\n",
    "    my_counter += 1\n",
    "mapping_dict"
   ]
  },
  {
   "cell_type": "code",
   "execution_count": 47,
   "id": "5888f29a",
   "metadata": {},
   "outputs": [
    {
     "data": {
      "text/html": [
       "<div>\n",
       "<style scoped>\n",
       "    .dataframe tbody tr th:only-of-type {\n",
       "        vertical-align: middle;\n",
       "    }\n",
       "\n",
       "    .dataframe tbody tr th {\n",
       "        vertical-align: top;\n",
       "    }\n",
       "\n",
       "    .dataframe thead th {\n",
       "        text-align: right;\n",
       "    }\n",
       "</style>\n",
       "<table border=\"1\" class=\"dataframe\">\n",
       "  <thead>\n",
       "    <tr style=\"text-align: right;\">\n",
       "      <th></th>\n",
       "      <th>diabetes</th>\n",
       "      <th>diab_as_num</th>\n",
       "    </tr>\n",
       "    <tr>\n",
       "      <th>PatientID</th>\n",
       "      <th></th>\n",
       "      <th></th>\n",
       "    </tr>\n",
       "  </thead>\n",
       "  <tbody>\n",
       "    <tr>\n",
       "      <th>1</th>\n",
       "      <td>No diabetes</td>\n",
       "      <td>0</td>\n",
       "    </tr>\n",
       "    <tr>\n",
       "      <th>2</th>\n",
       "      <td>No diabetes</td>\n",
       "      <td>0</td>\n",
       "    </tr>\n",
       "    <tr>\n",
       "      <th>3</th>\n",
       "      <td>No diabetes</td>\n",
       "      <td>0</td>\n",
       "    </tr>\n",
       "  </tbody>\n",
       "</table>\n",
       "</div>"
      ],
      "text/plain": [
       "              diabetes  diab_as_num\n",
       "PatientID                          \n",
       "1          No diabetes            0\n",
       "2          No diabetes            0\n",
       "3          No diabetes            0"
      ]
     },
     "execution_count": 47,
     "metadata": {},
     "output_type": "execute_result"
    }
   ],
   "source": [
    "#Using apply to map the dictionary for the scatterplot\n",
    "diab['diab_as_num'] = diab['diabetes'].apply(lambda x: mapping_dict[x])\n",
    "diab[['diabetes', 'diab_as_num']].head(3)"
   ]
  },
  {
   "cell_type": "code",
   "execution_count": 50,
   "id": "43366311",
   "metadata": {},
   "outputs": [
    {
     "data": {
      "image/png": "[encoded data removed]",
      "text/plain": [
       "<Figure size 1008x576 with 2 Axes>"
      ]
     },
     "metadata": {},
     "output_type": "display_data"
    }
   ],
   "source": [
    "diab.plot(kind='scatter', x='age', y='glucose', c='diab_as_num', colormap='jet', figsize=(14,8));"
   ]
  },
  {
   "cell_type": "markdown",
   "id": "1067f44c",
   "metadata": {},
   "source": [
    "The normal glucose levels ranges within 70 to 99 mg/dl. The scatterplot above shows that majority of the patients who have diabetes do fall above the normal glucose level range, which proves that glucose levels are a main factor in diabetes."
   ]
  },
  {
   "cell_type": "markdown",
   "id": "5e4e2a25",
   "metadata": {},
   "source": [
    "The etiopathology of Diabetes dictates that higher ranges of Glucose and Cholesterol levels could indicate pre-diabetes or diabetes.\n"
   ]
  },
  {
   "cell_type": "markdown",
   "id": "57c29c43",
   "metadata": {},
   "source": [
    "Normal blood glucose level range : 70-99 mg/dl\n"
   ]
  },
  {
   "cell_type": "markdown",
   "id": "0998aa13",
   "metadata": {},
   "source": [
    "Normal Cholesterol level range : 125-200 mg/dl"
   ]
  },
  {
   "cell_type": "code",
   "execution_count": 51,
   "id": "b3d4e10a",
   "metadata": {},
   "outputs": [
    {
     "data": {
      "text/plain": [
       "cholesterol        79\n",
       "glucose            79\n",
       "hdl_chol           79\n",
       "chol_hdl_ratio     79\n",
       "age                79\n",
       "gender             79\n",
       "height             79\n",
       "weight             79\n",
       "systolic_bp        79\n",
       "diastolic_bp       79\n",
       "waist              79\n",
       "hip                79\n",
       "waist_hip_ratio    79\n",
       "diabetes           79\n",
       "diab_as_num        79\n",
       "dtype: int64"
      ]
     },
     "execution_count": 51,
     "metadata": {},
     "output_type": "execute_result"
    }
   ],
   "source": [
    "# To see how many patients are pre-diabetic or in risk of diabetes\n",
    "diab[(diab['glucose'] > 99) & (diab['cholesterol'] > 200)].count()"
   ]
  },
  {
   "cell_type": "code",
   "execution_count": 52,
   "id": "be3c5653",
   "metadata": {},
   "outputs": [
    {
     "data": {
      "text/html": [
       "<div>\n",
       "<style scoped>\n",
       "    .dataframe tbody tr th:only-of-type {\n",
       "        vertical-align: middle;\n",
       "    }\n",
       "\n",
       "    .dataframe tbody tr th {\n",
       "        vertical-align: top;\n",
       "    }\n",
       "\n",
       "    .dataframe thead th {\n",
       "        text-align: right;\n",
       "    }\n",
       "</style>\n",
       "<table border=\"1\" class=\"dataframe\">\n",
       "  <thead>\n",
       "    <tr style=\"text-align: right;\">\n",
       "      <th></th>\n",
       "      <th>cholesterol</th>\n",
       "      <th>glucose</th>\n",
       "      <th>hdl_chol</th>\n",
       "      <th>chol_hdl_ratio</th>\n",
       "      <th>age</th>\n",
       "      <th>gender</th>\n",
       "      <th>height</th>\n",
       "      <th>weight</th>\n",
       "      <th>systolic_bp</th>\n",
       "      <th>diastolic_bp</th>\n",
       "      <th>waist</th>\n",
       "      <th>hip</th>\n",
       "      <th>waist_hip_ratio</th>\n",
       "      <th>diabetes</th>\n",
       "      <th>diab_as_num</th>\n",
       "    </tr>\n",
       "    <tr>\n",
       "      <th>PatientID</th>\n",
       "      <th></th>\n",
       "      <th></th>\n",
       "      <th></th>\n",
       "      <th></th>\n",
       "      <th></th>\n",
       "      <th></th>\n",
       "      <th></th>\n",
       "      <th></th>\n",
       "      <th></th>\n",
       "      <th></th>\n",
       "      <th></th>\n",
       "      <th></th>\n",
       "      <th></th>\n",
       "      <th></th>\n",
       "      <th></th>\n",
       "    </tr>\n",
       "  </thead>\n",
       "  <tbody>\n",
       "    <tr>\n",
       "      <th>9</th>\n",
       "      <td>230</td>\n",
       "      <td>112</td>\n",
       "      <td>64</td>\n",
       "      <td>3.6</td>\n",
       "      <td>20</td>\n",
       "      <td>male</td>\n",
       "      <td>67</td>\n",
       "      <td>159</td>\n",
       "      <td>100</td>\n",
       "      <td>90</td>\n",
       "      <td>31</td>\n",
       "      <td>39</td>\n",
       "      <td>0.79</td>\n",
       "      <td>No diabetes</td>\n",
       "      <td>0</td>\n",
       "    </tr>\n",
       "    <tr>\n",
       "      <th>43</th>\n",
       "      <td>201</td>\n",
       "      <td>100</td>\n",
       "      <td>46</td>\n",
       "      <td>4.4</td>\n",
       "      <td>27</td>\n",
       "      <td>female</td>\n",
       "      <td>65</td>\n",
       "      <td>145</td>\n",
       "      <td>121</td>\n",
       "      <td>75</td>\n",
       "      <td>32</td>\n",
       "      <td>35</td>\n",
       "      <td>0.91</td>\n",
       "      <td>No diabetes</td>\n",
       "      <td>0</td>\n",
       "    </tr>\n",
       "    <tr>\n",
       "      <th>47</th>\n",
       "      <td>226</td>\n",
       "      <td>100</td>\n",
       "      <td>65</td>\n",
       "      <td>3.5</td>\n",
       "      <td>27</td>\n",
       "      <td>male</td>\n",
       "      <td>69</td>\n",
       "      <td>289</td>\n",
       "      <td>130</td>\n",
       "      <td>100</td>\n",
       "      <td>48</td>\n",
       "      <td>51</td>\n",
       "      <td>0.94</td>\n",
       "      <td>No diabetes</td>\n",
       "      <td>0</td>\n",
       "    </tr>\n",
       "    <tr>\n",
       "      <th>52</th>\n",
       "      <td>214</td>\n",
       "      <td>111</td>\n",
       "      <td>59</td>\n",
       "      <td>3.6</td>\n",
       "      <td>28</td>\n",
       "      <td>male</td>\n",
       "      <td>68</td>\n",
       "      <td>204</td>\n",
       "      <td>130</td>\n",
       "      <td>90</td>\n",
       "      <td>40</td>\n",
       "      <td>41</td>\n",
       "      <td>0.98</td>\n",
       "      <td>No diabetes</td>\n",
       "      <td>0</td>\n",
       "    </tr>\n",
       "    <tr>\n",
       "      <th>87</th>\n",
       "      <td>244</td>\n",
       "      <td>101</td>\n",
       "      <td>36</td>\n",
       "      <td>6.8</td>\n",
       "      <td>32</td>\n",
       "      <td>male</td>\n",
       "      <td>70</td>\n",
       "      <td>212</td>\n",
       "      <td>132</td>\n",
       "      <td>90</td>\n",
       "      <td>39</td>\n",
       "      <td>44</td>\n",
       "      <td>0.89</td>\n",
       "      <td>No diabetes</td>\n",
       "      <td>0</td>\n",
       "    </tr>\n",
       "    <tr>\n",
       "      <th>...</th>\n",
       "      <td>...</td>\n",
       "      <td>...</td>\n",
       "      <td>...</td>\n",
       "      <td>...</td>\n",
       "      <td>...</td>\n",
       "      <td>...</td>\n",
       "      <td>...</td>\n",
       "      <td>...</td>\n",
       "      <td>...</td>\n",
       "      <td>...</td>\n",
       "      <td>...</td>\n",
       "      <td>...</td>\n",
       "      <td>...</td>\n",
       "      <td>...</td>\n",
       "      <td>...</td>\n",
       "    </tr>\n",
       "    <tr>\n",
       "      <th>383</th>\n",
       "      <td>271</td>\n",
       "      <td>121</td>\n",
       "      <td>40</td>\n",
       "      <td>6.8</td>\n",
       "      <td>81</td>\n",
       "      <td>female</td>\n",
       "      <td>64</td>\n",
       "      <td>158</td>\n",
       "      <td>146</td>\n",
       "      <td>76</td>\n",
       "      <td>36</td>\n",
       "      <td>43</td>\n",
       "      <td>0.84</td>\n",
       "      <td>No diabetes</td>\n",
       "      <td>0</td>\n",
       "    </tr>\n",
       "    <tr>\n",
       "      <th>385</th>\n",
       "      <td>255</td>\n",
       "      <td>112</td>\n",
       "      <td>34</td>\n",
       "      <td>7.5</td>\n",
       "      <td>82</td>\n",
       "      <td>male</td>\n",
       "      <td>66</td>\n",
       "      <td>163</td>\n",
       "      <td>179</td>\n",
       "      <td>89</td>\n",
       "      <td>37</td>\n",
       "      <td>43</td>\n",
       "      <td>0.86</td>\n",
       "      <td>No diabetes</td>\n",
       "      <td>0</td>\n",
       "    </tr>\n",
       "    <tr>\n",
       "      <th>386</th>\n",
       "      <td>227</td>\n",
       "      <td>105</td>\n",
       "      <td>44</td>\n",
       "      <td>5.2</td>\n",
       "      <td>83</td>\n",
       "      <td>female</td>\n",
       "      <td>59</td>\n",
       "      <td>125</td>\n",
       "      <td>150</td>\n",
       "      <td>90</td>\n",
       "      <td>35</td>\n",
       "      <td>40</td>\n",
       "      <td>0.88</td>\n",
       "      <td>No diabetes</td>\n",
       "      <td>0</td>\n",
       "    </tr>\n",
       "    <tr>\n",
       "      <th>387</th>\n",
       "      <td>226</td>\n",
       "      <td>279</td>\n",
       "      <td>52</td>\n",
       "      <td>4.3</td>\n",
       "      <td>84</td>\n",
       "      <td>female</td>\n",
       "      <td>60</td>\n",
       "      <td>192</td>\n",
       "      <td>144</td>\n",
       "      <td>88</td>\n",
       "      <td>41</td>\n",
       "      <td>48</td>\n",
       "      <td>0.85</td>\n",
       "      <td>Diabetes</td>\n",
       "      <td>1</td>\n",
       "    </tr>\n",
       "    <tr>\n",
       "      <th>389</th>\n",
       "      <td>232</td>\n",
       "      <td>184</td>\n",
       "      <td>114</td>\n",
       "      <td>2.0</td>\n",
       "      <td>91</td>\n",
       "      <td>female</td>\n",
       "      <td>61</td>\n",
       "      <td>127</td>\n",
       "      <td>170</td>\n",
       "      <td>82</td>\n",
       "      <td>35</td>\n",
       "      <td>38</td>\n",
       "      <td>0.92</td>\n",
       "      <td>Diabetes</td>\n",
       "      <td>1</td>\n",
       "    </tr>\n",
       "  </tbody>\n",
       "</table>\n",
       "<p>79 rows × 15 columns</p>\n",
       "</div>"
      ],
      "text/plain": [
       "           cholesterol  glucose  hdl_chol  chol_hdl_ratio  age  gender  \\\n",
       "PatientID                                                                \n",
       "9                  230      112        64             3.6   20    male   \n",
       "43                 201      100        46             4.4   27  female   \n",
       "47                 226      100        65             3.5   27    male   \n",
       "52                 214      111        59             3.6   28    male   \n",
       "87                 244      101        36             6.8   32    male   \n",
       "...                ...      ...       ...             ...  ...     ...   \n",
       "383                271      121        40             6.8   81  female   \n",
       "385                255      112        34             7.5   82    male   \n",
       "386                227      105        44             5.2   83  female   \n",
       "387                226      279        52             4.3   84  female   \n",
       "389                232      184       114             2.0   91  female   \n",
       "\n",
       "           height  weight  systolic_bp  diastolic_bp  waist  hip  \\\n",
       "PatientID                                                          \n",
       "9              67     159          100            90     31   39   \n",
       "43             65     145          121            75     32   35   \n",
       "47             69     289          130           100     48   51   \n",
       "52             68     204          130            90     40   41   \n",
       "87             70     212          132            90     39   44   \n",
       "...           ...     ...          ...           ...    ...  ...   \n",
       "383            64     158          146            76     36   43   \n",
       "385            66     163          179            89     37   43   \n",
       "386            59     125          150            90     35   40   \n",
       "387            60     192          144            88     41   48   \n",
       "389            61     127          170            82     35   38   \n",
       "\n",
       "           waist_hip_ratio     diabetes  diab_as_num  \n",
       "PatientID                                             \n",
       "9                     0.79  No diabetes            0  \n",
       "43                    0.91  No diabetes            0  \n",
       "47                    0.94  No diabetes            0  \n",
       "52                    0.98  No diabetes            0  \n",
       "87                    0.89  No diabetes            0  \n",
       "...                    ...          ...          ...  \n",
       "383                   0.84  No diabetes            0  \n",
       "385                   0.86  No diabetes            0  \n",
       "386                   0.88  No diabetes            0  \n",
       "387                   0.85     Diabetes            1  \n",
       "389                   0.92     Diabetes            1  \n",
       "\n",
       "[79 rows x 15 columns]"
      ]
     },
     "execution_count": 52,
     "metadata": {},
     "output_type": "execute_result"
    }
   ],
   "source": [
    "diab[(diab['glucose'] > 99) & (diab['cholesterol'] > 200)].head(90)\n",
    "#The dataframe displays 79 rows"
   ]
  },
  {
   "cell_type": "code",
   "execution_count": 53,
   "id": "d01e50b3",
   "metadata": {},
   "outputs": [
    {
     "data": {
      "text/plain": [
       "cholesterol        40\n",
       "glucose            40\n",
       "hdl_chol           40\n",
       "chol_hdl_ratio     40\n",
       "age                40\n",
       "gender             40\n",
       "height             40\n",
       "weight             40\n",
       "systolic_bp        40\n",
       "diastolic_bp       40\n",
       "waist              40\n",
       "hip                40\n",
       "waist_hip_ratio    40\n",
       "diabetes           40\n",
       "diab_as_num        40\n",
       "dtype: int64"
      ]
     },
     "execution_count": 53,
     "metadata": {},
     "output_type": "execute_result"
    }
   ],
   "source": [
    "diab[(diab['glucose'] > 99) & (diab['cholesterol'] > 200) & (diab['diabetes'] == 'No diabetes')].count()\n",
    "# This indicates that 40 out of 330 are above the normal range and are not diabetic in this dataset"
   ]
  },
  {
   "cell_type": "code",
   "execution_count": 54,
   "id": "dcc6df5e",
   "metadata": {},
   "outputs": [
    {
     "data": {
      "text/plain": [
       "cholesterol        39\n",
       "glucose            39\n",
       "hdl_chol           39\n",
       "chol_hdl_ratio     39\n",
       "age                39\n",
       "gender             39\n",
       "height             39\n",
       "weight             39\n",
       "systolic_bp        39\n",
       "diastolic_bp       39\n",
       "waist              39\n",
       "hip                39\n",
       "waist_hip_ratio    39\n",
       "diabetes           39\n",
       "diab_as_num        39\n",
       "dtype: int64"
      ]
     },
     "execution_count": 54,
     "metadata": {},
     "output_type": "execute_result"
    }
   ],
   "source": [
    "diab[(diab['glucose'] > 99) & (diab['cholesterol'] > 200) & (diab['diabetes'] == 'Diabetes')].count()\n",
    "#This indicates that 39 out of 60 are above the normal range and are diabetic in this dataset."
   ]
  },
  {
   "cell_type": "markdown",
   "id": "98b4f1b8",
   "metadata": {},
   "source": [
    "The ratio discrepancy above only further strengthens the theory that glucose and cholesterol are major factors in the predisposition of diabetes."
   ]
  },
  {
   "cell_type": "markdown",
   "id": "dd45ec8b",
   "metadata": {},
   "source": [
    "# Obesity in Diabetes"
   ]
  },
  {
   "cell_type": "markdown",
   "id": "73e25e04",
   "metadata": {},
   "source": [
    "In recent studies, it has been found that obesity is one of the main indicators of a person having higher predisposition of getting Diabetes."
   ]
  },
  {
   "cell_type": "markdown",
   "id": "1f9850f0",
   "metadata": {},
   "source": [
    "Glucose and cholesterol levels have a role in causing obesity but they are not clear indicators. Instead, a persons BMI(Body Mass Index) is calculated and used as indicators for identifying patients with higher risk of getting Diabetes."
   ]
  },
  {
   "cell_type": "markdown",
   "id": "7140f776",
   "metadata": {},
   "source": [
    "Therefore, a new column is created to calculate the BMI of each patient using the existing values in this dataset."
   ]
  },
  {
   "cell_type": "code",
   "execution_count": 55,
   "id": "0a01afc4",
   "metadata": {},
   "outputs": [],
   "source": [
    "diab['the_bmi'] = (diab['weight']/2.205) / (diab['height']/39.37)**2\n",
    "#Data uses pounds and inches and had to be converted to kilograms and metres respectively"
   ]
  },
  {
   "cell_type": "code",
   "execution_count": 56,
   "id": "38034901",
   "metadata": {},
   "outputs": [
    {
     "data": {
      "text/html": [
       "<div>\n",
       "<style scoped>\n",
       "    .dataframe tbody tr th:only-of-type {\n",
       "        vertical-align: middle;\n",
       "    }\n",
       "\n",
       "    .dataframe tbody tr th {\n",
       "        vertical-align: top;\n",
       "    }\n",
       "\n",
       "    .dataframe thead th {\n",
       "        text-align: right;\n",
       "    }\n",
       "</style>\n",
       "<table border=\"1\" class=\"dataframe\">\n",
       "  <thead>\n",
       "    <tr style=\"text-align: right;\">\n",
       "      <th></th>\n",
       "      <th>the_bmi</th>\n",
       "    </tr>\n",
       "    <tr>\n",
       "      <th>PatientID</th>\n",
       "      <th></th>\n",
       "    </tr>\n",
       "  </thead>\n",
       "  <tbody>\n",
       "    <tr>\n",
       "      <th>1</th>\n",
       "      <td>22.480684</td>\n",
       "    </tr>\n",
       "    <tr>\n",
       "      <th>2</th>\n",
       "      <td>26.360491</td>\n",
       "    </tr>\n",
       "    <tr>\n",
       "      <th>3</th>\n",
       "      <td>29.282910</td>\n",
       "    </tr>\n",
       "    <tr>\n",
       "      <th>4</th>\n",
       "      <td>19.564427</td>\n",
       "    </tr>\n",
       "    <tr>\n",
       "      <th>5</th>\n",
       "      <td>20.227642</td>\n",
       "    </tr>\n",
       "  </tbody>\n",
       "</table>\n",
       "</div>"
      ],
      "text/plain": [
       "             the_bmi\n",
       "PatientID           \n",
       "1          22.480684\n",
       "2          26.360491\n",
       "3          29.282910\n",
       "4          19.564427\n",
       "5          20.227642"
      ]
     },
     "execution_count": 56,
     "metadata": {},
     "output_type": "execute_result"
    }
   ],
   "source": [
    "diab[['the_bmi']].head(5)"
   ]
  },
  {
   "cell_type": "code",
   "execution_count": 57,
   "id": "11a914dd",
   "metadata": {},
   "outputs": [
    {
     "data": {
      "text/html": [
       "<div>\n",
       "<style scoped>\n",
       "    .dataframe tbody tr th:only-of-type {\n",
       "        vertical-align: middle;\n",
       "    }\n",
       "\n",
       "    .dataframe tbody tr th {\n",
       "        vertical-align: top;\n",
       "    }\n",
       "\n",
       "    .dataframe thead th {\n",
       "        text-align: right;\n",
       "    }\n",
       "</style>\n",
       "<table border=\"1\" class=\"dataframe\">\n",
       "  <thead>\n",
       "    <tr style=\"text-align: right;\">\n",
       "      <th></th>\n",
       "      <th>cholesterol</th>\n",
       "      <th>glucose</th>\n",
       "      <th>hdl_chol</th>\n",
       "      <th>chol_hdl_ratio</th>\n",
       "      <th>age</th>\n",
       "      <th>gender</th>\n",
       "      <th>height</th>\n",
       "      <th>weight</th>\n",
       "      <th>systolic_bp</th>\n",
       "      <th>diastolic_bp</th>\n",
       "      <th>waist</th>\n",
       "      <th>hip</th>\n",
       "      <th>waist_hip_ratio</th>\n",
       "      <th>diabetes</th>\n",
       "      <th>diab_as_num</th>\n",
       "      <th>the_bmi</th>\n",
       "    </tr>\n",
       "    <tr>\n",
       "      <th>PatientID</th>\n",
       "      <th></th>\n",
       "      <th></th>\n",
       "      <th></th>\n",
       "      <th></th>\n",
       "      <th></th>\n",
       "      <th></th>\n",
       "      <th></th>\n",
       "      <th></th>\n",
       "      <th></th>\n",
       "      <th></th>\n",
       "      <th></th>\n",
       "      <th></th>\n",
       "      <th></th>\n",
       "      <th></th>\n",
       "      <th></th>\n",
       "      <th></th>\n",
       "    </tr>\n",
       "  </thead>\n",
       "  <tbody>\n",
       "    <tr>\n",
       "      <th>1</th>\n",
       "      <td>193</td>\n",
       "      <td>77</td>\n",
       "      <td>49</td>\n",
       "      <td>3.9</td>\n",
       "      <td>19</td>\n",
       "      <td>female</td>\n",
       "      <td>61</td>\n",
       "      <td>119</td>\n",
       "      <td>118</td>\n",
       "      <td>70</td>\n",
       "      <td>32</td>\n",
       "      <td>38</td>\n",
       "      <td>0.84</td>\n",
       "      <td>No diabetes</td>\n",
       "      <td>0</td>\n",
       "      <td>22.480684</td>\n",
       "    </tr>\n",
       "    <tr>\n",
       "      <th>2</th>\n",
       "      <td>146</td>\n",
       "      <td>79</td>\n",
       "      <td>41</td>\n",
       "      <td>3.6</td>\n",
       "      <td>19</td>\n",
       "      <td>female</td>\n",
       "      <td>60</td>\n",
       "      <td>135</td>\n",
       "      <td>108</td>\n",
       "      <td>58</td>\n",
       "      <td>33</td>\n",
       "      <td>40</td>\n",
       "      <td>0.83</td>\n",
       "      <td>No diabetes</td>\n",
       "      <td>0</td>\n",
       "      <td>26.360491</td>\n",
       "    </tr>\n",
       "    <tr>\n",
       "      <th>3</th>\n",
       "      <td>217</td>\n",
       "      <td>75</td>\n",
       "      <td>54</td>\n",
       "      <td>4.0</td>\n",
       "      <td>20</td>\n",
       "      <td>female</td>\n",
       "      <td>67</td>\n",
       "      <td>187</td>\n",
       "      <td>110</td>\n",
       "      <td>72</td>\n",
       "      <td>40</td>\n",
       "      <td>45</td>\n",
       "      <td>0.89</td>\n",
       "      <td>No diabetes</td>\n",
       "      <td>0</td>\n",
       "      <td>29.282910</td>\n",
       "    </tr>\n",
       "  </tbody>\n",
       "</table>\n",
       "</div>"
      ],
      "text/plain": [
       "           cholesterol  glucose  hdl_chol  chol_hdl_ratio  age  gender  \\\n",
       "PatientID                                                                \n",
       "1                  193       77        49             3.9   19  female   \n",
       "2                  146       79        41             3.6   19  female   \n",
       "3                  217       75        54             4.0   20  female   \n",
       "\n",
       "           height  weight  systolic_bp  diastolic_bp  waist  hip  \\\n",
       "PatientID                                                          \n",
       "1              61     119          118            70     32   38   \n",
       "2              60     135          108            58     33   40   \n",
       "3              67     187          110            72     40   45   \n",
       "\n",
       "           waist_hip_ratio     diabetes  diab_as_num    the_bmi  \n",
       "PatientID                                                        \n",
       "1                     0.84  No diabetes            0  22.480684  \n",
       "2                     0.83  No diabetes            0  26.360491  \n",
       "3                     0.89  No diabetes            0  29.282910  "
      ]
     },
     "execution_count": 57,
     "metadata": {},
     "output_type": "execute_result"
    }
   ],
   "source": [
    "diab.head(3)\n",
    "# 2 new columns created in the dataframe"
   ]
  },
  {
   "cell_type": "code",
   "execution_count": 63,
   "id": "aa9e9fd2",
   "metadata": {},
   "outputs": [
    {
     "data": {
      "text/html": [
       "<div>\n",
       "<style scoped>\n",
       "    .dataframe tbody tr th:only-of-type {\n",
       "        vertical-align: middle;\n",
       "    }\n",
       "\n",
       "    .dataframe tbody tr th {\n",
       "        vertical-align: top;\n",
       "    }\n",
       "\n",
       "    .dataframe thead th {\n",
       "        text-align: right;\n",
       "    }\n",
       "</style>\n",
       "<table border=\"1\" class=\"dataframe\">\n",
       "  <thead>\n",
       "    <tr style=\"text-align: right;\">\n",
       "      <th></th>\n",
       "      <th>the_bmi</th>\n",
       "      <th>glucose</th>\n",
       "      <th>cholesterol</th>\n",
       "    </tr>\n",
       "    <tr>\n",
       "      <th>PatientID</th>\n",
       "      <th></th>\n",
       "      <th></th>\n",
       "      <th></th>\n",
       "    </tr>\n",
       "  </thead>\n",
       "  <tbody>\n",
       "    <tr>\n",
       "      <th>311</th>\n",
       "      <td>51.361670</td>\n",
       "      <td>109</td>\n",
       "      <td>235</td>\n",
       "    </tr>\n",
       "    <tr>\n",
       "      <th>241</th>\n",
       "      <td>44.159255</td>\n",
       "      <td>110</td>\n",
       "      <td>215</td>\n",
       "    </tr>\n",
       "    <tr>\n",
       "      <th>357</th>\n",
       "      <td>43.214646</td>\n",
       "      <td>115</td>\n",
       "      <td>228</td>\n",
       "    </tr>\n",
       "    <tr>\n",
       "      <th>354</th>\n",
       "      <td>42.957838</td>\n",
       "      <td>111</td>\n",
       "      <td>289</td>\n",
       "    </tr>\n",
       "    <tr>\n",
       "      <th>47</th>\n",
       "      <td>42.669927</td>\n",
       "      <td>100</td>\n",
       "      <td>226</td>\n",
       "    </tr>\n",
       "    <tr>\n",
       "      <th>...</th>\n",
       "      <td>...</td>\n",
       "      <td>...</td>\n",
       "      <td>...</td>\n",
       "    </tr>\n",
       "    <tr>\n",
       "      <th>338</th>\n",
       "      <td>22.310312</td>\n",
       "      <td>120</td>\n",
       "      <td>221</td>\n",
       "    </tr>\n",
       "    <tr>\n",
       "      <th>139</th>\n",
       "      <td>22.043087</td>\n",
       "      <td>155</td>\n",
       "      <td>216</td>\n",
       "    </tr>\n",
       "    <tr>\n",
       "      <th>263</th>\n",
       "      <td>20.190450</td>\n",
       "      <td>103</td>\n",
       "      <td>271</td>\n",
       "    </tr>\n",
       "    <tr>\n",
       "      <th>310</th>\n",
       "      <td>19.472201</td>\n",
       "      <td>102</td>\n",
       "      <td>236</td>\n",
       "    </tr>\n",
       "    <tr>\n",
       "      <th>373</th>\n",
       "      <td>18.019867</td>\n",
       "      <td>112</td>\n",
       "      <td>219</td>\n",
       "    </tr>\n",
       "  </tbody>\n",
       "</table>\n",
       "<p>79 rows × 3 columns</p>\n",
       "</div>"
      ],
      "text/plain": [
       "             the_bmi  glucose  cholesterol\n",
       "PatientID                                 \n",
       "311        51.361670      109          235\n",
       "241        44.159255      110          215\n",
       "357        43.214646      115          228\n",
       "354        42.957838      111          289\n",
       "47         42.669927      100          226\n",
       "...              ...      ...          ...\n",
       "338        22.310312      120          221\n",
       "139        22.043087      155          216\n",
       "263        20.190450      103          271\n",
       "310        19.472201      102          236\n",
       "373        18.019867      112          219\n",
       "\n",
       "[79 rows x 3 columns]"
      ]
     },
     "execution_count": 63,
     "metadata": {},
     "output_type": "execute_result"
    }
   ],
   "source": [
    "#Sorting the BMI values in descending order to see patients with highest risk\n",
    "#The glucose and cholesterol levels can be checked if its within or above normal range for futher assesment\n",
    "diab[(diab['glucose'] > 99) & (diab['cholesterol'] > 200)].sort_values(by='the_bmi', ascending = False)[['the_bmi', 'glucose', 'cholesterol']]"
   ]
  },
  {
   "cell_type": "markdown",
   "id": "a0c5d4cd",
   "metadata": {},
   "source": [
    "BMI is used as the primary indicator for Obesity. BMI classification by its own has 6 categories.The first three categories are:"
   ]
  },
  {
   "cell_type": "markdown",
   "id": "6b43b76a",
   "metadata": {},
   "source": [
    "Underweight, Normal and Overweight"
   ]
  },
  {
   "cell_type": "markdown",
   "id": "a8c34192",
   "metadata": {},
   "source": [
    "Obesity is further classified into three categories which falls in the last 3 categories of the BMI classification, of which Class 3 has the highest risk for the predisposition of Diabetes. The remaining three categories are:"
   ]
  },
  {
   "cell_type": "markdown",
   "id": "40e372cd",
   "metadata": {},
   "source": [
    "Severely overweight(Class 1), Obese(Class 2), Severely Obese(Class 3)"
   ]
  },
  {
   "cell_type": "code",
   "execution_count": 1,
   "id": "05b833a2",
   "metadata": {},
   "outputs": [],
   "source": [
    "def BMI_calculator():\n",
    "    while True:\n",
    "            try:\n",
    "                height = float(input(\"Enter your height in cm: \"))\n",
    "                weight = float(input(\"Enter your weight in kg: \"))\n",
    "            except ValueError:\n",
    "                print(\"Please input correct values\")\n",
    "                continue\n",
    "            else:\n",
    "                print(\"Calculating your Body Mass Index\")\n",
    "                break\n",
    "            \n",
    "            \n",
    "    BMI =weight / (height/100)**2\n",
    "    print(f\"Your BMI is {BMI}\")\n",
    "    if BMI <= 18.4:\n",
    "        print(\"UNDERWEIGHT\")\n",
    "    elif BMI <= 24.9:\n",
    "        print(\"NORMAL\")\n",
    "    elif BMI <= 29.9:\n",
    "        print(\"OVERWEIGHT\")\n",
    "    elif BMI <= 34.9:\n",
    "        print(\"SEVERELY OVERWEIGHT\")\n",
    "    elif BMI <= 39.9:\n",
    "        print(\"OBESE\")\n",
    "    else:\n",
    "        print(\"SEVERELY OBESE\")"
   ]
  },
  {
   "cell_type": "code",
   "execution_count": 2,
   "id": "2b9fa843",
   "metadata": {},
   "outputs": [
    {
     "name": "stdout",
     "output_type": "stream",
     "text": [
      "Enter your height in cm: hello\n",
      "Please input correct values\n",
      "Enter your height in cm: 123\n",
      "Enter your weight in kg: 56\n",
      "Calculating your Body Mass Index\n",
      "Your BMI is 37.01500429638443\n",
      "OBESE\n"
     ]
    }
   ],
   "source": [
    "BMI_calculator()"
   ]
  },
  {
   "cell_type": "markdown",
   "id": "5be74726",
   "metadata": {},
   "source": [
    "# END OF PRESENTATION"
   ]
  },
  {
   "cell_type": "markdown",
   "id": "571aba1b",
   "metadata": {},
   "source": [
    "Thank you for your time in indulging this infotainment!"
   ]
  },
  {
   "cell_type": "code",
   "execution_count": null,
   "id": "7fa6ddd9",
   "metadata": {},
   "outputs": [],
   "source": []
  }
 ],
 "metadata": {
  "kernelspec": {
   "display_name": "Python 3",
   "language": "python",
   "name": "python3"
  },
  "language_info": {
   "codemirror_mode": {
    "name": "ipython",
    "version": 3
   },
   "file_extension": ".py",
   "mimetype": "text/x-python",
   "name": "python",
   "nbconvert_exporter": "python",
   "pygments_lexer": "ipython3",
   "version": "3.8.8"
  }
 },
 "nbformat": 4,
 "nbformat_minor": 5
}
